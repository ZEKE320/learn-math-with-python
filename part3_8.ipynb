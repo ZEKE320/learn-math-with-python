{
 "cells": [
  {
   "cell_type": "markdown",
   "metadata": {},
   "source": [
    "##### $$y = 2x + 1$$\n",
    "\n",
    "#### これはmarkdown上でLaTeX記法の$y = 2x + 1$ を表示するためのテストです。\n",
    "\n",
    "#### 以下は指数や添え字の表示テスト\n",
    "##### $$a_1$$\n",
    "##### $$a_{ij}$$\n",
    "##### $$b^2$$\n",
    "##### $$b^{ij}$$\n",
    "##### $$c_1^2$$\n",
    "\n",
    "#### 多項式\n",
    "##### $$y = x^3+2x^2+x+3$$\n",
    "\n",
    "#### 平方根\n",
    "##### $$y = \\sqrt x$$\n",
    "\n",
    "#### 三角関数\n",
    "##### $$ y = \\sin x $$\n",
    "\n",
    "#### 分数\n",
    "##### $$ y = \\frac{17}{24}$$\n",
    "\n",
    "#### 総和\n",
    "##### $$y = \\sum_{k=1}^n a_k$$\n",
    "\n",
    "#### 総乗\n",
    "##### $$y = \\prod_{k=1}^n a_k$$"
   ]
  },
  {
   "cell_type": "markdown",
   "metadata": {},
   "source": [
    "$$ y = x^3 + \\sqrt x + \\frac{a_{ij}}{b_{ij}^4} - \\sum_{k=1}^n a_k $$"
   ]
  }
 ],
 "metadata": {
  "kernelspec": {
   "display_name": "Python 3.10.5 64-bit",
   "language": "python",
   "name": "python3"
  },
  "language_info": {
   "name": "python",
   "version": "3.10.5"
  },
  "orig_nbformat": 4,
  "vscode": {
   "interpreter": {
    "hash": "26da9762604bc225405109b04285b569ac78214e4e8e9e9b5ac0ea6baf861ebd"
   }
  }
 },
 "nbformat": 4,
 "nbformat_minor": 2
}
