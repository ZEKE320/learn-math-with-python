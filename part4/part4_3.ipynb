{
 "cells": [
  {
   "cell_type": "code",
   "execution_count": 4,
   "metadata": {},
   "outputs": [
    {
     "name": "stdout",
     "output_type": "stream",
     "text": [
      "[[ 6  3]\n",
      " [12  6]]\n"
     ]
    }
   ],
   "source": [
    "import numpy as np\n",
    "\n",
    "a = np.array([[0, 1, 2], [1, 2, 3]])\n",
    "b = np.array([[2, 1], [2, 1], [2, 1]])\n",
    "\n",
    "print(np.dot(a, b))\n"
   ]
  },
  {
   "cell_type": "code",
   "execution_count": 7,
   "metadata": {},
   "outputs": [
    {
     "name": "stdout",
     "output_type": "stream",
     "text": [
      "[[ 0  1  4]\n",
      " [ 6  0  5]\n",
      " [ 6 14  0]]\n"
     ]
    }
   ],
   "source": [
    "import numpy as np\n",
    "\n",
    "\n",
    "a = np.array([[0, 1, 2], [3, 4, 5], [6, 7, 8]])\n",
    "b = np.array([[0, 1, 2], [2, 0, 1], [1, 2, 0]])\n",
    "\n",
    "print(a * b)\n"
   ]
  },
  {
   "cell_type": "code",
   "execution_count": 10,
   "metadata": {},
   "outputs": [
    {
     "name": "stdout",
     "output_type": "stream",
     "text": [
      "[[0 1 2]\n",
      " [1 2 3]]\n",
      "[[0 1]\n",
      " [1 2]\n",
      " [2 3]]\n",
      "[[ 5  8]\n",
      " [ 8 14]]\n",
      "[[0 1 2]\n",
      " [3 4 5]\n",
      " [6 7 8]]\n",
      "[[0 2 0]\n",
      " [2 0 2]\n",
      " [0 2 0]]\n",
      "[[ 0  2  0]\n",
      " [ 6  0 10]\n",
      " [ 0 14  0]]\n"
     ]
    }
   ],
   "source": [
    "import numpy as np\n",
    "\n",
    "a = np.array([[0, 1, 2], [1, 2, 3]])\n",
    "b = np.array([[0, 1], [1, 2], [2, 3]])\n",
    "print(a)\n",
    "print(b)\n",
    "x = np.dot(a, b)\n",
    "print(x)\n",
    "\n",
    "\n",
    "c = np.array([[0, 1, 2], [3, 4, 5], [6, 7, 8]])\n",
    "d = np.array([[0, 2, 0], [2, 0, 2], [0, 2, 0]])\n",
    "print(c)\n",
    "print(d)\n",
    "\n",
    "y = c * d\n",
    "print(y)\n",
    "\n"
   ]
  }
 ],
 "metadata": {
  "kernelspec": {
   "display_name": "Python 3.10.5 64-bit",
   "language": "python",
   "name": "python3"
  },
  "language_info": {
   "name": "python",
   "version": "3.10.5"
  },
  "orig_nbformat": 4,
  "vscode": {
   "interpreter": {
    "hash": "26da9762604bc225405109b04285b569ac78214e4e8e9e9b5ac0ea6baf861ebd"
   }
  }
 },
 "nbformat": 4,
 "nbformat_minor": 2
}
