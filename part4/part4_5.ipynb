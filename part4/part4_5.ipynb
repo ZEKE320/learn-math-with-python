{
 "cells": [
  {
   "cell_type": "code",
   "execution_count": 2,
   "metadata": {},
   "outputs": [
    {
     "name": "stdout",
     "output_type": "stream",
     "text": [
      "[[1. 0.]\n",
      " [0. 1.]]\n",
      "[[1. 0. 0.]\n",
      " [0. 1. 0.]\n",
      " [0. 0. 1.]]\n",
      "[[1. 0. 0. 0.]\n",
      " [0. 1. 0. 0.]\n",
      " [0. 0. 1. 0.]\n",
      " [0. 0. 0. 1.]]\n"
     ]
    }
   ],
   "source": [
    "import numpy as np\n",
    "\n",
    "matrix_2 = np.eye(2)\n",
    "matrix_3 = np.eye(3)\n",
    "matrix_4 = np.eye(4)\n",
    "\n",
    "print(matrix_2)\n",
    "print(matrix_3)\n",
    "print(matrix_4)\n"
   ]
  },
  {
   "cell_type": "code",
   "execution_count": 6,
   "metadata": {},
   "outputs": [
    {
     "name": "stdout",
     "output_type": "stream",
     "text": [
      "-2.0000000000000004\n",
      "0.0\n"
     ]
    }
   ],
   "source": [
    "import numpy as np\n",
    "\n",
    "\n",
    "a = np.array([[1, 2], [3, 4]])\n",
    "print(np.linalg.det(a))\n",
    "\n",
    "b = np.array([[1, 2], [0, 0]])\n",
    "print(np.linalg.det(b))\n"
   ]
  },
  {
   "cell_type": "code",
   "execution_count": 9,
   "metadata": {},
   "outputs": [
    {
     "name": "stdout",
     "output_type": "stream",
     "text": [
      "[[-2.   1. ]\n",
      " [ 1.5 -0.5]]\n"
     ]
    }
   ],
   "source": [
    "import numpy as np\n",
    "\n",
    "\n",
    "a = np.array([[1, 2], [3, 4]])\n",
    "print(np.linalg.inv(a))\n",
    "\n",
    "b = np.array([[1, 2], [0, 0]])\n",
    "# print(np.linalg.inv(b))\n"
   ]
  },
  {
   "cell_type": "code",
   "execution_count": 11,
   "metadata": {},
   "outputs": [
    {
     "name": "stdout",
     "output_type": "stream",
     "text": [
      "1.0\n",
      "\n",
      "[[ 2. -1.]\n",
      " [-1.  1.]]\n"
     ]
    }
   ],
   "source": [
    "import numpy as np\n",
    "\n",
    "a = np.array([[1, 1], [1, 2]])\n",
    "\n",
    "det = np.linalg.det(a)\n",
    "print(det)\n",
    "print()\n",
    "\n",
    "if det != 0:\n",
    "    inv = np.linalg.inv(a)\n",
    "    print(inv)\n"
   ]
  }
 ],
 "metadata": {
  "kernelspec": {
   "display_name": "Python 3.10.5 64-bit",
   "language": "python",
   "name": "python3"
  },
  "language_info": {
   "codemirror_mode": {
    "name": "ipython",
    "version": 3
   },
   "file_extension": ".py",
   "mimetype": "text/x-python",
   "name": "python",
   "nbconvert_exporter": "python",
   "pygments_lexer": "ipython3",
   "version": "3.10.5"
  },
  "orig_nbformat": 4,
  "vscode": {
   "interpreter": {
    "hash": "26da9762604bc225405109b04285b569ac78214e4e8e9e9b5ac0ea6baf861ebd"
   }
  }
 },
 "nbformat": 4,
 "nbformat_minor": 2
}
