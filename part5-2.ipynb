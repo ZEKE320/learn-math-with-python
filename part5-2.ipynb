{
 "cells": [
  {
   "cell_type": "code",
   "execution_count": null,
   "metadata": {},
   "outputs": [],
   "source": []
  },
  {
   "cell_type": "markdown",
   "metadata": {},
   "source": [
    "$$\n",
    "\\begin{aligned}\n",
    "y &= (x^2 + 4x + 1)^4\\\\\n",
    "u &= x^2 + 4x + 1\\\\\n",
    "y &= u^4\n",
    "\\end{aligned}\\\\\n",
    "\n",
    "\n",
    "\n",
    "\\begin{aligned}\n",
    "\\frac{dy}{dx}&= \\frac{dy}{du}\\frac{du}{dx}\\\\\n",
    "&= 4 (x^2 + 4x + 1)^3 (2x + 4)\n",
    "\\end{aligned}\n",
    "$$"
   ]
  }
 ],
 "metadata": {
  "language_info": {
   "name": "python"
  },
  "orig_nbformat": 4
 },
 "nbformat": 4,
 "nbformat_minor": 2
}
