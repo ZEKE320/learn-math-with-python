{
 "cells": [
  {
   "cell_type": "code",
   "execution_count": 3,
   "metadata": {},
   "outputs": [
    {
     "name": "stdout",
     "output_type": "stream",
     "text": [
      "[2. 5.]\n",
      "\n",
      "[[-0.70710678 -0.4472136 ]\n",
      " [ 0.70710678 -0.89442719]]\n"
     ]
    }
   ],
   "source": [
    "import numpy as np\n",
    "\n",
    "a = np.array([[3,1],[2,4]])\n",
    "\n",
    "ev = np.linalg.eig(a)\n",
    "\n",
    "print(ev[0])\n",
    "print()\n",
    "print(ev[1])\n"
   ]
  },
  {
   "cell_type": "code",
   "execution_count": 12,
   "metadata": {},
   "outputs": [
    {
     "name": "stdout",
     "output_type": "stream",
     "text": [
      "<class 'tuple'>\n",
      "[-1.  2.]\n",
      "\n",
      "[[-0.9701425  -0.70710678]\n",
      " [-0.24253563 -0.70710678]]\n",
      "1.0\n",
      "0.9999999999999999\n"
     ]
    }
   ],
   "source": [
    "import numpy as np\n",
    "\n",
    "a = np.array([[-2, 4], [-1, 3]])\n",
    "\n",
    "ev = np.linalg.eig(a)\n",
    "\n",
    "print(ev[0])\n",
    "print()\n",
    "print(ev[1])\n",
    "\n",
    "print(np.linalg.norm(ev[1][:, 0]))  # 固有ベクトル１のL2ノルム\n",
    "print(np.linalg.norm(ev[1][:, 1]))  # 固有ベクトル２のL2ノルム\n"
   ]
  }
 ],
 "metadata": {
  "kernelspec": {
   "display_name": "Python 3.10.5 64-bit",
   "language": "python",
   "name": "python3"
  },
  "language_info": {
   "codemirror_mode": {
    "name": "ipython",
    "version": 3
   },
   "file_extension": ".py",
   "mimetype": "text/x-python",
   "name": "python",
   "nbconvert_exporter": "python",
   "pygments_lexer": "ipython3",
   "version": "3.10.5"
  },
  "orig_nbformat": 4,
  "vscode": {
   "interpreter": {
    "hash": "26da9762604bc225405109b04285b569ac78214e4e8e9e9b5ac0ea6baf861ebd"
   }
  }
 },
 "nbformat": 4,
 "nbformat_minor": 2
}
