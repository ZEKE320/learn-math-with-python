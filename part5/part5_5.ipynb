{
 "cells": [
  {
   "cell_type": "code",
   "execution_count": null,
   "metadata": {},
   "outputs": [],
   "source": []
  },
  {
   "cell_type": "markdown",
   "metadata": {},
   "source": [
    "$$\n",
    "\\begin{aligned}\n",
    "\n",
    "z &= 2u^3 + uv^2 + 4v\\\\\n",
    "u &= x^2 + 3x\\\\\n",
    "v &= x + 7\\\\\n",
    "\n",
    "\\end{aligned}\n",
    "$$"
   ]
  },
  {
   "cell_type": "markdown",
   "metadata": {},
   "source": [
    "$$\n",
    "\n",
    "\\frac{∂z}{∂x} = \\frac{∂z}{∂u}\\frac{∂u}{∂x} + \\frac{∂z}{∂v}\\frac{∂v}{∂x}\n",
    "\n",
    "$$"
   ]
  },
  {
   "cell_type": "markdown",
   "metadata": {},
   "source": [
    "$$\n",
    "\\begin{aligned}\n",
    "\n",
    "\\frac{∂z}{∂u} &= 6u^2 + v^2\\\\\n",
    "\\frac{du}{dx} &= 2x + 3\\\\\n",
    "\n",
    "\\frac{∂z}{∂v} &= 2uv + 4\\\\\n",
    "\\frac{dv}{dx} &= 1\\\\\n",
    "\n",
    "\\end{aligned}\n",
    "\n",
    "$$"
   ]
  },
  {
   "cell_type": "markdown",
   "metadata": {},
   "source": [
    "$$\n",
    "\n",
    "\\begin{aligned}\n",
    "\n",
    "\\frac{∂z}{∂u} &= (6u^2 + v^2)(2x + 3) + (2uv + 4) \\cdot 1\\\\\n",
    "&= (6(x^2 + 3x)^2 + (x + 7)^2)(2x + 3) + (2(x^2 + 3x)(x + 7) + 4)\\\\\n",
    "&= ((6x^4 + 36x^3 + 54x^2) + (2x^3 + 20x^2 + 42x))(2x + 3) + ((2x^3 + 20x^2 + 42x) + 4)\\\\\n",
    "&= (6x^4 + 38x^3 + 74x^2 + 42x)(2x + 3) + (2x^3 + 20x^2 + 42x + 4)\\\\\n",
    "&= (12x^5 +(18 + 76)x^4 + (76 + 148 + 2)x^3 + (222 + 84 + 20)x^2 + (126 + 42)x + 4\\\\\n",
    "&= 12x^5 + 94x^4 + 226x^3 + 326x^2 + 168x + 4\n",
    "\n",
    "\\end{aligned}\n",
    "\n",
    "$$"
   ]
  },
  {
   "cell_type": "code",
   "execution_count": 6,
   "metadata": {},
   "outputs": [],
   "source": [
    "import numpy as np\n",
    "\n",
    "\n",
    "def differencial(fx):\n",
    "    dif = list()\n",
    "\n",
    "    for xn in fx:\n",
    "        coef = xn[0] * xn[1]\n",
    "        exp = xn[1] - 1\n",
    "        dif.append([coef, exp])\n",
    "\n",
    "    return dif\n",
    "\n",
    "\n",
    "fx = np.array([[4, 3], [1, 2], [5, 1], [2, 0]])\n",
    "dif = differencial(fx)\n"
   ]
  },
  {
   "cell_type": "code",
   "execution_count": null,
   "metadata": {},
   "outputs": [],
   "source": []
  }
 ],
 "metadata": {
  "kernelspec": {
   "display_name": "Python 3.10.6 64-bit (windows store)",
   "language": "python",
   "name": "python3"
  },
  "language_info": {
   "codemirror_mode": {
    "name": "ipython",
    "version": 3
   },
   "file_extension": ".py",
   "mimetype": "text/x-python",
   "name": "python",
   "nbconvert_exporter": "python",
   "pygments_lexer": "ipython3",
   "version": "3.10.6"
  },
  "orig_nbformat": 4,
  "vscode": {
   "interpreter": {
    "hash": "4acc2fa0662cabd8c27504482a79e1112f3be847156b580b2c3922d7b1e822ea"
   }
  }
 },
 "nbformat": 4,
 "nbformat_minor": 2
}
