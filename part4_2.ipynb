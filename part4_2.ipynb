{
 "cells": [
  {
   "cell_type": "code",
   "execution_count": 2,
   "metadata": {},
   "outputs": [
    {
     "name": "stdout",
     "output_type": "stream",
     "text": [
      "--- dot() 関数 ---\n",
      "10\n",
      "--- 積の総和 ---\n",
      "10\n"
     ]
    }
   ],
   "source": [
    "import numpy as np\n",
    "\n",
    "a = np.array([1, 2, 3])\n",
    "b = np.array([3, 2, 1])\n",
    "\n",
    "print(\"--- dot() 関数 ---\")\n",
    "print(np.dot(a, b))\n",
    "print(\"--- 積の総和 ---\")\n",
    "print(np.sum(a * b))\n"
   ]
  },
  {
   "cell_type": "code",
   "execution_count": 5,
   "metadata": {},
   "outputs": [
    {
     "name": "stdout",
     "output_type": "stream",
     "text": [
      "--- L2 ノルム ---\n",
      "2.0\n",
      "--- L1 ノルム ---\n",
      "4.0\n"
     ]
    }
   ],
   "source": [
    "import numpy as np\n",
    "\n",
    "a = np.array([1, 1, -1, -1])\n",
    "\n",
    "print(\"--- L2 ノルム ---\")\n",
    "print(np.linalg.norm(a))\n",
    "print(\"--- L1 ノルム ---\")\n",
    "print(np.linalg.norm(a, 1))\n"
   ]
  },
  {
   "cell_type": "code",
   "execution_count": 8,
   "metadata": {},
   "outputs": [
    {
     "name": "stdout",
     "output_type": "stream",
     "text": [
      "--- 内積 ---\n",
      "8\n",
      "--- L2 ノルム ---\n",
      "3.0\n",
      "--- L1 ノルム ---\n",
      "5.0\n"
     ]
    }
   ],
   "source": [
    "import numpy as np\n",
    "\n",
    "a = np.array([1, -2, 2])\n",
    "b = np.array([2, -2, 1])\n",
    "\n",
    "print(\"--- 内積 ---\")\n",
    "dot = np.sum(a * b)\n",
    "print(dot)\n",
    "\n",
    "print(\"--- L2 ノルム ---\")\n",
    "l2_norm = np.linalg.norm(a)\n",
    "print(l2_norm)\n",
    "\n",
    "print(\"--- L1 ノルム ---\")\n",
    "l1_norm = np.linalg.norm(a, 1)\n",
    "print(l1_norm)\n"
   ]
  }
 ],
 "metadata": {
  "kernelspec": {
   "display_name": "Python 3.10.5 64-bit",
   "language": "python",
   "name": "python3"
  },
  "language_info": {
   "codemirror_mode": {
    "name": "ipython",
    "version": 3
   },
   "file_extension": ".py",
   "mimetype": "text/x-python",
   "name": "python",
   "nbconvert_exporter": "python",
   "pygments_lexer": "ipython3",
   "version": "3.10.5"
  },
  "orig_nbformat": 4,
  "vscode": {
   "interpreter": {
    "hash": "26da9762604bc225405109b04285b569ac78214e4e8e9e9b5ac0ea6baf861ebd"
   }
  }
 },
 "nbformat": 4,
 "nbformat_minor": 2
}
