{
 "cells": [
  {
   "cell_type": "code",
   "execution_count": 8,
   "metadata": {},
   "outputs": [
    {
     "name": "stdout",
     "output_type": "stream",
     "text": [
      "[[  1   2   4]\n",
      " [  8  16  32]\n",
      " [ 64 128 256]]\n",
      "[[0 1 2]\n",
      " [3 4 5]\n",
      " [6 7 8]]\n",
      "[[  1   3   6]\n",
      " [ 11  20  37]\n",
      " [ 70 135 264]]\n",
      "[[  1   1   2]\n",
      " [  5  12  27]\n",
      " [ 58 121 248]]\n",
      "[[   0    2    8]\n",
      " [  24   64  160]\n",
      " [ 384  896 2048]]\n",
      "[[        inf  2.          2.        ]\n",
      " [ 2.66666667  4.          6.4       ]\n",
      " [10.66666667 18.28571429 32.        ]]\n"
     ]
    }
   ],
   "source": [
    "import numpy as np\n",
    "\n",
    "NUM_DATA = 9\n",
    "\n",
    "a = np.empty(shape=(3, 3), dtype=int)\n",
    "b = np.arange(NUM_DATA).reshape(3, 3)\n",
    "\n",
    "for i in range(NUM_DATA):\n",
    "    a.flat[i] = 2**i\n",
    "\n",
    "print(a)\n",
    "print(b)\n",
    "print(a + b)\n",
    "print(a - b)\n",
    "print(a * b)\n",
    "with np.errstate(divide='ignore'):\n",
    "    print(a / b)\n"
   ]
  }
 ],
 "metadata": {
  "kernelspec": {
   "display_name": "Python 3.10.5 64-bit",
   "language": "python",
   "name": "python3"
  },
  "language_info": {
   "codemirror_mode": {
    "name": "ipython",
    "version": 3
   },
   "file_extension": ".py",
   "mimetype": "text/x-python",
   "name": "python",
   "nbconvert_exporter": "python",
   "pygments_lexer": "ipython3",
   "version": "3.10.5"
  },
  "orig_nbformat": 4,
  "vscode": {
   "interpreter": {
    "hash": "26da9762604bc225405109b04285b569ac78214e4e8e9e9b5ac0ea6baf861ebd"
   }
  }
 },
 "nbformat": 4,
 "nbformat_minor": 2
}
