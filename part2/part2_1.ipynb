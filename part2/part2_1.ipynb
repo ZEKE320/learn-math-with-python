{
 "cells": [
  {
   "cell_type": "code",
   "execution_count": 8,
   "metadata": {},
   "outputs": [
    {
     "name": "stdout",
     "output_type": "stream",
     "text": [
      "Hello World\n",
      "[1, 3, 8, 27]\n",
      "(1, 2, 4, 8)\n",
      "39\n",
      "[27, 8, 3, 1]\n",
      "2\n"
     ]
    }
   ],
   "source": [
    "a = 5\n",
    "\n",
    "\n",
    "def reversed_list(l):\n",
    "    return l[::-1]\n",
    "\n",
    "\n",
    "def global_a_to_2():\n",
    "    global a\n",
    "    a = 2\n",
    "    return a\n",
    "\n",
    "\n",
    "print(\"Hello World\")\n",
    "\n",
    "l = [1, 3, 9, 27]\n",
    "t = (1, 2, 4, 8)\n",
    "\n",
    "if l == list(t):\n",
    "    l.append(t)\n",
    "else:\n",
    "    l[2] = t[3]\n",
    "\n",
    "print(l)\n",
    "print(t)\n",
    "\n",
    "sum = 0\n",
    "for i in l:\n",
    "    sum += i\n",
    "\n",
    "print(sum)\n",
    "\n",
    "print(reversed_list(l))\n",
    "\n",
    "print(global_a_to_2())\n"
   ]
  }
 ],
 "metadata": {
  "kernelspec": {
   "display_name": "Python 3.9.12 ('base')",
   "language": "python",
   "name": "python3"
  },
  "language_info": {
   "codemirror_mode": {
    "name": "ipython",
    "version": 3
   },
   "file_extension": ".py",
   "mimetype": "text/x-python",
   "name": "python",
   "nbconvert_exporter": "python",
   "pygments_lexer": "ipython3",
   "version": "3.9.12"
  },
  "orig_nbformat": 4,
  "vscode": {
   "interpreter": {
    "hash": "0306cb8b4482e5266c7de082da68eeef6f8456ee2fe21a71a1ca05933ad2cc05"
   }
  }
 },
 "nbformat": 4,
 "nbformat_minor": 2
}
