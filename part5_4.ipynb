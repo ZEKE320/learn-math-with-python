{
 "cells": [
  {
   "cell_type": "code",
   "execution_count": null,
   "metadata": {},
   "outputs": [],
   "source": []
  },
  {
   "cell_type": "markdown",
   "metadata": {},
   "source": [
    "$$\n",
    "\\begin{aligned}\n",
    "f(x,y) &= 2x^3 + 4x^2y + xy^2 - 4y^2\\\\\n",
    "\n",
    "\\frac{∂}{∂x}f(x,y) &= 6x^2 + 8xy + y^2\\\\\n",
    "\\frac{∂}{∂y}f(x,y) &= 4x^2 + 2xy - 8y\\\\\n",
    "\n",
    "dz &= (6x^2 + 8xy + y^2)dx + (4x^2 + 2xy - 8y)dy\\\\\n",
    "\\end{aligned}\n",
    "$$"
   ]
  }
 ],
 "metadata": {
  "kernelspec": {
   "display_name": "Python 3.10.6 64-bit (windows store)",
   "language": "python",
   "name": "python3"
  },
  "language_info": {
   "name": "python",
   "version": "3.10.6"
  },
  "orig_nbformat": 4,
  "vscode": {
   "interpreter": {
    "hash": "4acc2fa0662cabd8c27504482a79e1112f3be847156b580b2c3922d7b1e822ea"
   }
  }
 },
 "nbformat": 4,
 "nbformat_minor": 2
}
