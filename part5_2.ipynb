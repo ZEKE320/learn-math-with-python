{
 "cells": [
  {
   "cell_type": "code",
   "execution_count": null,
   "metadata": {},
   "outputs": [],
   "source": []
  },
  {
   "cell_type": "markdown",
   "metadata": {},
   "source": [
    "yを以下のような合成関数として定義する。\n",
    "$$\n",
    "y = (x^2 + 4x + 1)^4\n",
    "$$\n",
    "\n",
    "この等式は以下のように置き換えることが出来る。\n",
    "$$\n",
    "\\begin{aligned}\n",
    "u &= x^2 + 4x + 1\\\\\n",
    "y &= u^4\n",
    "\\end{aligned}\n",
    "$$\n",
    "\n",
    "よって連鎖律により、yの導関数は以下のように表すことが出来る。\n",
    "$$\n",
    "\\begin{aligned}\n",
    "\\frac{dy}{dx}&= \\frac{dy}{du}\\frac{du}{dx}\\\\\n",
    "&= 4 (x^2 + 4x + 1)^3 (2x + 4)\n",
    "\\end{aligned}\n",
    "$$"
   ]
  }
 ],
 "metadata": {
  "kernelspec": {
   "display_name": "Python 3.10.6 64-bit (windows store)",
   "language": "python",
   "name": "python3"
  },
  "language_info": {
   "name": "python",
   "version": "3.10.6"
  },
  "orig_nbformat": 4,
  "vscode": {
   "interpreter": {
    "hash": "4acc2fa0662cabd8c27504482a79e1112f3be847156b580b2c3922d7b1e822ea"
   }
  }
 },
 "nbformat": 4,
 "nbformat_minor": 2
}
