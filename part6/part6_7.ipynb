{
 "cells": [
  {
   "cell_type": "markdown",
   "metadata": {},
   "source": [
    "# この節で登場した数式\n",
    "\n",
    "1. 条件付き確率\n",
    "\n",
    "    $P(A|B)=\\frac{P(A \\cap B)}{P(B)}$\n",
    "\n",
    "2. ベイズの定理\n",
    "\n",
    "    $P(A|B)=\\frac{P(B|A)P(A)}{P(B)}$"
   ]
  },
  {
   "cell_type": "markdown",
   "metadata": {},
   "source": [
    "# 演習6-7\n",
    "\n",
    "- A: 球の番号が0である確率\n",
    "- B: 白い球が出る確率\n",
    "\n",
    "$$P(A|B) = \\frac{P(A \\cap B)}{P(B)}$$\n",
    "\n",
    "$$\n",
    "\\begin{aligned}\n",
    "P(A \\cap B) &= \\frac{1}{2} \\cdot \\frac{2}{3}\\\\\n",
    "&= \\frac{1}{3}\\\\\n",
    "\\end{aligned}\n",
    "$$\n",
    "\n",
    "$$P(B) = \\frac{1}{2}$$\n",
    "\n",
    "$$\\therefore P(A|B) = \\frac{2}{3}$$"
   ]
  }
 ],
 "metadata": {
  "kernelspec": {
   "display_name": "Python 3.10.7 64-bit (microsoft store)",
   "language": "python",
   "name": "python3"
  },
  "language_info": {
   "name": "python",
   "version": "3.10.7"
  },
  "orig_nbformat": 4,
  "vscode": {
   "interpreter": {
    "hash": "4acc2fa0662cabd8c27504482a79e1112f3be847156b580b2c3922d7b1e822ea"
   }
  }
 },
 "nbformat": 4,
 "nbformat_minor": 2
}
