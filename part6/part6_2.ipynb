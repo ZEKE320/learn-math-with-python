{
 "cells": [
  {
   "cell_type": "code",
   "execution_count": 2,
   "metadata": {},
   "outputs": [
    {
     "name": "stdout",
     "output_type": "stream",
     "text": [
      "50.0\n"
     ]
    }
   ],
   "source": [
    "# データの平均値を求める\n",
    "import numpy as np\n",
    "\n",
    "x = np.array([55, 45, 60, 40])\n",
    "print(np.average(x))\n"
   ]
  },
  {
   "cell_type": "code",
   "execution_count": 4,
   "metadata": {},
   "outputs": [
    {
     "name": "stdout",
     "output_type": "stream",
     "text": [
      "205.0\n"
     ]
    }
   ],
   "source": [
    "# データの期待値を求める\n",
    "import numpy as np\n",
    "\n",
    "# 確率\n",
    "p = np.array([0.8, 0.15, 0.05])\n",
    "# 得点\n",
    "x = np.array([100, 500, 1000])\n",
    "\n",
    "print(np.sum(p * x))\n"
   ]
  },
  {
   "cell_type": "code",
   "execution_count": 5,
   "metadata": {},
   "outputs": [
    {
     "name": "stdout",
     "output_type": "stream",
     "text": [
      "390.0\n"
     ]
    }
   ],
   "source": [
    "# 演習6-2\n",
    "\n",
    "import numpy as np\n",
    "import matplotlib.pyplot as plt\n",
    "\n",
    "p = np.array([0.75, 0.23, 0.02])\n",
    "x = np.array([100, 500, 10000])\n",
    "\n",
    "print(np.sum(p * x))\n"
   ]
  }
 ],
 "metadata": {
  "kernelspec": {
   "display_name": "Python 3.10.6 64-bit (windows store)",
   "language": "python",
   "name": "python3"
  },
  "language_info": {
   "codemirror_mode": {
    "name": "ipython",
    "version": 3
   },
   "file_extension": ".py",
   "mimetype": "text/x-python",
   "name": "python",
   "nbconvert_exporter": "python",
   "pygments_lexer": "ipython3",
   "version": "3.10.6"
  },
  "orig_nbformat": 4,
  "vscode": {
   "interpreter": {
    "hash": "4acc2fa0662cabd8c27504482a79e1112f3be847156b580b2c3922d7b1e822ea"
   }
  }
 },
 "nbformat": 4,
 "nbformat_minor": 2
}
