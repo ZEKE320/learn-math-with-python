{
 "cells": [
  {
   "cell_type": "code",
   "execution_count": 2,
   "metadata": {},
   "outputs": [
    {
     "name": "stdout",
     "output_type": "stream",
     "text": [
      "62.5\n",
      "2.5\n"
     ]
    }
   ],
   "source": [
    "# numpyで分散を求める\n",
    "import numpy as np\n",
    "\n",
    "x_1 = np.array([55, 45, 60, 40])\n",
    "x_2 = np.array([51, 49, 52, 48])\n",
    "\n",
    "print(np.var(x_1))\n",
    "print(np.var(x_2))"
   ]
  },
  {
   "cell_type": "code",
   "execution_count": 4,
   "metadata": {},
   "outputs": [
    {
     "name": "stdout",
     "output_type": "stream",
     "text": [
      "7.905694150420948\n",
      "1.5811388300841898\n"
     ]
    }
   ],
   "source": [
    "# numpyで標準偏差を求める\n",
    "import numpy as np\n",
    "\n",
    "x_1 = np.array([55, 45, 60, 40])\n",
    "x_2 = np.array([51, 49, 52, 48])\n",
    "\n",
    "print(np.std(x_1))\n",
    "print(np.std(x_2))\n"
   ]
  },
  {
   "cell_type": "code",
   "execution_count": 5,
   "metadata": {},
   "outputs": [
    {
     "name": "stdout",
     "output_type": "stream",
     "text": [
      "2.5\n",
      "1.5811388300841898\n"
     ]
    }
   ],
   "source": [
    "# 演習6-3\n",
    "import numpy as np\n",
    "\n",
    "x = np.array([51, 49, 52, 48])\n",
    "\n",
    "print(np.var(x))\n",
    "print(np.std(x))"
   ]
  }
 ],
 "metadata": {
  "kernelspec": {
   "display_name": "Python 3.10.6 64-bit (windows store)",
   "language": "python",
   "name": "python3"
  },
  "language_info": {
   "codemirror_mode": {
    "name": "ipython",
    "version": 3
   },
   "file_extension": ".py",
   "mimetype": "text/x-python",
   "name": "python",
   "nbconvert_exporter": "python",
   "pygments_lexer": "ipython3",
   "version": "3.10.6"
  },
  "orig_nbformat": 4,
  "vscode": {
   "interpreter": {
    "hash": "4acc2fa0662cabd8c27504482a79e1112f3be847156b580b2c3922d7b1e822ea"
   }
  }
 },
 "nbformat": 4,
 "nbformat_minor": 2
}
