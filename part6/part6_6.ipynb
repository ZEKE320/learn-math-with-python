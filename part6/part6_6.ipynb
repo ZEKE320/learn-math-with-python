{
 "cells": [
  {
   "cell_type": "code",
   "execution_count": 3,
   "metadata": {},
   "outputs": [
    {
     "name": "stdout",
     "output_type": "stream",
     "text": [
      "--- corrcoef()関数を使用 ---\n",
      "[[1.         0.72760688]\n",
      " [0.72760688 1.        ]]\n",
      "\n",
      "--- 共分散と標準偏差から求める ---\n",
      "0.7276068751089989\n"
     ]
    },
    {
     "data": {
      "image/png": "[encoded data removed]",
      "text/plain": [
       "<Figure size 432x288 with 1 Axes>"
      ]
     },
     "metadata": {
      "needs_background": "light"
     },
     "output_type": "display_data"
    }
   ],
   "source": [
    "# corrcoef()関数を用いて相関係数を計算する\n",
    "import numpy as np\n",
    "import matplotlib.pyplot as plt\n",
    "\n",
    "x = np.array([50, 70, 40, 60, 80])\n",
    "y = np.array([60, 80, 50, 50, 70])\n",
    "\n",
    "print(\"--- corrcoef()関数を使用 ---\")\n",
    "print(np.corrcoef(x, y))\n",
    "\n",
    "print()\n",
    "\n",
    "print(\"--- 共分散と標準偏差から求める ---\")\n",
    "cov_xy = np.average((x - np.average(x)) * (y - np.average(y)))\n",
    "print(cov_xy / (np.std(x) * np.std(y)))\n",
    "\n",
    "plt.scatter(x, y)\n",
    "\n",
    "plt.xlabel(\"x\", size=14)\n",
    "plt.ylabel(\"y\", size=14)\n",
    "plt.grid()\n",
    "\n",
    "plt.show()\n"
   ]
  },
  {
   "cell_type": "code",
   "execution_count": 5,
   "metadata": {},
   "outputs": [
    {
     "name": "stdout",
     "output_type": "stream",
     "text": [
      "--- corrcoef()関数を使用 ---\n",
      "[[1.         0.88975652]\n",
      " [0.88975652 1.        ]]\n",
      "\n",
      "--- 共分散と標準偏差から求める ---\n",
      "0.8897565210026094\n",
      "--- 共分散と分散から求める ---\n",
      "0.8897565210026094\n"
     ]
    },
    {
     "data": {
      "image/png": "[encoded data removed]",
      "text/plain": [
       "<Figure size 432x288 with 1 Axes>"
      ]
     },
     "metadata": {
      "needs_background": "light"
     },
     "output_type": "display_data"
    }
   ],
   "source": [
    "# 演習6-6\n",
    "import numpy as np\n",
    "import matplotlib.pyplot as plt\n",
    "\n",
    "x = np.array([30, 70, 40, 60, 90])\n",
    "y = np.array([20, 60, 50, 40, 80])\n",
    "\n",
    "print(\"--- corrcoef()関数を使用 ---\")\n",
    "print(np.corrcoef(x, y))\n",
    "\n",
    "print()\n",
    "\n",
    "print(\"--- 共分散と標準偏差から求める ---\")\n",
    "print(np.average((x - np.average(x)) * (y - np.average(y))) / (np.std(x) * np.std(y)))\n",
    "\n",
    "print()\n",
    "\n",
    "print(\"--- 共分散と分散から求める ---\")\n",
    "print(\n",
    "    np.average((x - np.average(x)) * (y - np.average(y)))\n",
    "    / (np.sqrt(np.var(x)) * np.sqrt(np.var(y)))\n",
    ")\n",
    "\n",
    "plt.scatter(x, y)\n",
    "\n",
    "plt.xlabel(\"x\", size=14)\n",
    "plt.ylabel(\"y\", size=14)\n",
    "plt.grid()\n",
    "\n",
    "plt.show()\n"
   ]
  }
 ],
 "metadata": {
  "kernelspec": {
   "display_name": "Python 3.10.5 64-bit",
   "language": "python",
   "name": "python3"
  },
  "language_info": {
   "codemirror_mode": {
    "name": "ipython",
    "version": 3
   },
   "file_extension": ".py",
   "mimetype": "text/x-python",
   "name": "python",
   "nbconvert_exporter": "python",
   "pygments_lexer": "ipython3",
   "version": "3.10.5"
  },
  "orig_nbformat": 4,
  "vscode": {
   "interpreter": {
    "hash": "26da9762604bc225405109b04285b569ac78214e4e8e9e9b5ac0ea6baf861ebd"
   }
  }
 },
 "nbformat": 4,
 "nbformat_minor": 2
}
